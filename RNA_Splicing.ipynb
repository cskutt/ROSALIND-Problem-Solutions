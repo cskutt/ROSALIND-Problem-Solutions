{
 "cells": [
  {
   "cell_type": "code",
   "execution_count": 22,
   "id": "4ae55351",
   "metadata": {},
   "outputs": [
    {
     "name": "stdout",
     "output_type": "stream",
     "text": [
      "MVYHSAFVPMNVFVPLVRGLHGRRSPCRCSELLTTAYLQCTTQLVMSQDIRLLPHPLKPGRKKGSLLPCRDHACAAYEPLSTGWRLKLLLLESMALATSLRILINLMSAHIYIVFSTGLEWFGMSHMIWIQVPRSRKVPTFGDVVHVSRFRSPHATNKWIATRVFYCLNDKPSWVSVLKWSIGHNRIGPDARRPHGYEPVGSMTstop\n"
     ]
    }
   ],
   "source": [
    "def translate(s1):\n",
    "    chunks, chunk_size = len(s1), 3\n",
    "    aa_list=[ s1[i:i+chunk_size] for i in range(0, chunks, chunk_size) ]\n",
    "    aas=['F' if word == 'UUU' else 'F' if word == 'UUC' else 'L' if word == 'UUA' else 'L' if word == 'UUG' else 'S' if word == 'UCU' else 'S' if word == \"UCC\" else \"S\" if word == 'UCA' else 'S' if word == 'UCG' else 'Y' if word == 'UAU' else 'Y' if word == 'UAC' else 'stop' if word == 'UAA' else 'stop' if word == 'UAG' else 'C' if word == \"UGU\" else 'C' if word == \"UGC\" else 'stop' if word == \"UGA\" else 'W' if word == 'UGG' else 'L' if word == 'CUU' else 'L'  if word == 'CUC' else \"L\" if word == 'CUA' else 'L'  if word == 'CUG' else 'P' if word == 'CCU' else 'P' if word == 'CCC' else 'P' if word == 'CCA' else 'P' if word == 'CCG' else 'H' if word == 'CAU' else 'H' if word == 'CAC' else 'H' if word == 'CAC' else 'Q' if word == 'CAA' else 'Q' if word == 'CAG' else 'R' if word == 'CGC' else 'R' if word == 'CGA' else 'R' if word == 'CGG' else 'R' if word == 'CGU' else 'I' if word == 'AUU' else 'I' if word == 'AUC' else 'I' if word == 'AUA' else 'M' if word == 'AUG' else 'T' if word == 'ACU' else 'T' if word == 'ACC' else 'T' if word == 'ACA' else 'T' if word == 'ACG' else 'N' if word == 'AAU' else 'N' if word == 'AAC' else 'K' if word == 'AAA' else 'K' if word == 'AAG' else 'S' if word == 'AGU' else 'S' if word == 'AGC' else 'R' if word == 'AGA' else 'R' if word == 'AGG' else 'V' if word == 'GUU' else 'V' if word == 'GUC' else \"V\" if word == 'GUA' else 'V' if word == 'GUG' else 'A' if word == 'GCU' else 'A' if word == 'GCC' else 'A' if word == 'GCA' else 'A' if word == 'GCG' else 'D' if word == 'GAU' else 'D' if word == 'GAC' else 'E' if word == 'GAA' else 'E' if word == 'GAG' else 'G' if word == 'GGU' else 'G' if word == 'GGC' else 'G' if word == 'GGA' else 'G' if word == 'GGG' else word for word in aa_list]\n",
    "    #print(aa_list)\n",
    "    #print(aas)\n",
    "    protein=\"\".join(aas)\n",
    "    print(protein)\n",
    "\n",
    "    \n",
    "def transcribe(string):\n",
    "    new_string=string.replace('T','U')\n",
    "    #print(new_string)\n",
    "    return new_string\n",
    "\n",
    "def string_comp(file_name):\n",
    "    seq='' \n",
    "    ID=''\n",
    "    i=0\n",
    "    string=0\n",
    "    DNA=''\n",
    "    F=open(file_name) #opens the file in read mode\n",
    "    for line in F:\n",
    "        #reads the file line by line\n",
    "        if line[0]=='>': #if the line starts with >, we now make sure that the previous line (the DNA sequence) gets computed\n",
    "            if string==1:\n",
    "                DNA=seq\n",
    "                #print(DNA)\n",
    "            elif string>1:\n",
    "                #if DNA.find(seq):\n",
    "                DNA=DNA.replace(seq,'')\n",
    "                #print(DNA)\n",
    "            string=string+1\n",
    "            seq=''\n",
    "        else:\n",
    "            seq=seq+line.strip() #make the seq variable equal to the sequence following the >Title, plus whatever has come before it since the last >Title. This effectively combines the multiple lines for the sequences.     \n",
    "    DNA=transcribe(DNA)\n",
    "    #print(DNA)\n",
    "    translate(DNA)\n",
    "   \n",
    "         \n",
    "            \n",
    "string_comp('rosalind_splc.txt')"
   ]
  },
  {
   "cell_type": "code",
   "execution_count": null,
   "id": "58fc8729",
   "metadata": {},
   "outputs": [],
   "source": []
  },
  {
   "cell_type": "code",
   "execution_count": null,
   "id": "93ad823f",
   "metadata": {},
   "outputs": [],
   "source": []
  }
 ],
 "metadata": {
  "kernelspec": {
   "display_name": "Python 3 (ipykernel)",
   "language": "python",
   "name": "python3"
  },
  "language_info": {
   "codemirror_mode": {
    "name": "ipython",
    "version": 3
   },
   "file_extension": ".py",
   "mimetype": "text/x-python",
   "name": "python",
   "nbconvert_exporter": "python",
   "pygments_lexer": "ipython3",
   "version": "3.11.5"
  }
 },
 "nbformat": 4,
 "nbformat_minor": 5
}
