{
 "cells": [
  {
   "cell_type": "code",
   "execution_count": 14,
   "id": "c54f7b72",
   "metadata": {},
   "outputs": [
    {
     "data": {
      "text/plain": [
       "(20, 12, 17, 21)"
      ]
     },
     "execution_count": 14,
     "metadata": {},
     "output_type": "execute_result"
    }
   ],
   "source": [
    "def count(string):\n",
    "    a_count=0\n",
    "    g_count=0\n",
    "    c_count=0\n",
    "    t_count=0\n",
    "    for i in string:\n",
    "        if i=='A':\n",
    "            a_count=a_count+1\n",
    "        elif i=='C':\n",
    "            c_count=c_count+1\n",
    "        elif i=='G':\n",
    "            g_count=g_count+1\n",
    "        elif i=='T':\n",
    "            t_count=t_count+1\n",
    "    return a_count, c_count, g_count, t_count\n",
    "    \n",
    "    \n",
    "count(\"AGCTTTTCATTCTGACTGCAACGGGCAATATGTCTCTGTGTGGATTAAAAAAAGAGTGTCTGATAGCAGC\")"
   ]
  },
  {
   "cell_type": "code",
   "execution_count": 22,
   "id": "e1a4214f",
   "metadata": {},
   "outputs": [
    {
     "name": "stdout",
     "output_type": "stream",
     "text": [
      "Please insert your DNA string\n",
      "TGATAAGATTTTTAAAGTAGTTCTGCTCCCCAGCACAGCATCCCATGTAAGAGCCAGCTTTATAATGATCCGGAATTTGCGCTGTCTACTGCCCAGTAACAGCATGCCTCACAACCATGGTCGACCCTCGTATGATCATAACGGTTTGGCAGGTCCTTCGATACCATCCTCTTCCACTGTCATCACTTAACCAAGTTTCAGAATGGCTTCATTTGCCGCGTGTCGAGCGCAGTTTTTCGCTTGTGAAGGTCAGCCATGGCATAGCCCTGATCTTATTGCGGACTTTACCCCGCCGTCAATAGGCATATAGGTCACGTCAAAAGCCTAACGACATTGCTTATGAAGGCTCCTCCTCACGGTATTCGCGTCTTACATTCTGCAAAGAGGGTTTGGAGGGCATTCGCTGAACCGCTATCACATTGTTTTATGTTTGACCTTTTAGAGACTTGTCGTCTTGTACGAACGCTTGCGATCCTGTAATCAACTTGTGGTAGATAGCGTTCATCAGTTACCACCAGTGGTCGGCTCCCTTCTACGTATCTGGGTACTACCACGGATCTTGATCACGGAGATCTAAAAATTCATCGGTGCCGTTCGCCGAGGACTTTATCCTCCACCGGGTTGTCACCCGTAGGGATACACTTAGACGAGCGGGTATCAAGGTGCAATGTATCTCGAGCGTCCGGCGGGTGCATGCACTCTGCACAACACGCAGTTGCGCCATGCTTACGTCAGTAAGGGGATTAAAGAAAAAGCACCGATCAGATTTATCATCTTAGGAGAGTTGCCATGGTCCATTACTCGATCACGGGAAGGCGACTACGCGTCGTTCTTTATTCGTATCTTGGGTCACCAGTCTCTCTGCCGACGAATCACGAAGTATTGGCCAAGGCCGCTCGCGTACGTCACTTAGTCACCAGGTTATTCTCATCTAGTAATCCTTACACCGACTGCT\n",
      "220 251 217 267\n"
     ]
    }
   ],
   "source": [
    "string=input(\"Please insert your DNA string\\n\")\n",
    "num_a=string.count(\"A\")\n",
    "num_c=string.count(\"C\")\n",
    "num_g=string.count(\"G\")\n",
    "num_t=string.count(\"T\")\n",
    "print(num_a, num_c, num_g, num_t)"
   ]
  },
  {
   "cell_type": "code",
   "execution_count": null,
   "id": "77cb05ab",
   "metadata": {},
   "outputs": [],
   "source": []
  }
 ],
 "metadata": {
  "kernelspec": {
   "display_name": "Python 3 (ipykernel)",
   "language": "python",
   "name": "python3"
  },
  "language_info": {
   "codemirror_mode": {
    "name": "ipython",
    "version": 3
   },
   "file_extension": ".py",
   "mimetype": "text/x-python",
   "name": "python",
   "nbconvert_exporter": "python",
   "pygments_lexer": "ipython3",
   "version": "3.11.5"
  }
 },
 "nbformat": 4,
 "nbformat_minor": 5
}
