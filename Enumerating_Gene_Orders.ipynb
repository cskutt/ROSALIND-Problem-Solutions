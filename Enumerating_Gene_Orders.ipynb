{
 "cells": [
  {
   "cell_type": "code",
   "execution_count": 19,
   "id": "23fbdb00",
   "metadata": {},
   "outputs": [
    {
     "name": "stdout",
     "output_type": "stream",
     "text": [
      "1 2 3 4\n",
      "1 2 4 3\n",
      "1 3 2 4\n",
      "1 3 4 2\n",
      "1 4 2 3\n",
      "1 4 3 2\n",
      "2 1 3 4\n",
      "2 1 4 3\n",
      "2 3 1 4\n",
      "2 3 4 1\n",
      "2 4 1 3\n",
      "2 4 3 1\n",
      "3 1 2 4\n",
      "3 1 4 2\n",
      "3 2 1 4\n",
      "3 2 4 1\n",
      "3 4 1 2\n",
      "3 4 2 1\n",
      "4 1 2 3\n",
      "4 1 3 2\n",
      "4 2 1 3\n",
      "4 2 3 1\n",
      "4 3 1 2\n",
      "4 3 2 1\n"
     ]
    }
   ],
   "source": [
    "def gen_perms(nums, used, permutation, output):\n",
    "    # If the permutation has as many numbers as possible, it prints it\n",
    "    # and then adds it to the list of the outputs. \n",
    "    if len(permutation)==len(nums):\n",
    "        print(*permutation)\n",
    "        # the output list can be used to tell us how many total perms \n",
    "        # there are with a len(outputs) command. \n",
    "        output.append(permutation)\n",
    "        return\n",
    "    #So, it goes through the numbers 1 at a time, starting with 1\n",
    "    for num in nums: \n",
    "        #If the number hasn't been used yet,\n",
    "        if num not in used: \n",
    "            #Add it to the permutation\n",
    "            permutation.append(num)\n",
    "            #Add it to the list of used numbers\n",
    "            used.add(num)\n",
    "            #Now, generate the rest of the permutation\n",
    "            gen_perms(nums, used, permutation, output)\n",
    "            # Once \n",
    "            permutation.pop()\n",
    "            used.remove(num)\n",
    "\n",
    "\n",
    "\n",
    "n=4\n",
    "\n",
    "nums=list(range(1,n+1))\n",
    "\n",
    "used=set()\n",
    "\n",
    "permutation=[]\n",
    "\n",
    "output=[]\n",
    "\n",
    "gen_perms(nums, used, permutation, output)"
   ]
  },
  {
   "cell_type": "code",
   "execution_count": null,
   "id": "7aa6e048",
   "metadata": {},
   "outputs": [],
   "source": []
  }
 ],
 "metadata": {
  "kernelspec": {
   "display_name": "Python 3 (ipykernel)",
   "language": "python",
   "name": "python3"
  },
  "language_info": {
   "codemirror_mode": {
    "name": "ipython",
    "version": 3
   },
   "file_extension": ".py",
   "mimetype": "text/x-python",
   "name": "python",
   "nbconvert_exporter": "python",
   "pygments_lexer": "ipython3",
   "version": "3.11.7"
  }
 },
 "nbformat": 4,
 "nbformat_minor": 5
}
