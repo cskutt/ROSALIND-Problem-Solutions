{
 "cells": [
  {
   "cell_type": "code",
   "execution_count": 26,
   "id": "8fa361bd",
   "metadata": {},
   "outputs": [
    {
     "data": {
      "text/plain": [
       "[26,\n",
       " 35,\n",
       " 42,\n",
       " 49,\n",
       " 129,\n",
       " 136,\n",
       " 155,\n",
       " 171,\n",
       " 188,\n",
       " 195,\n",
       " 218,\n",
       " 225,\n",
       " 270,\n",
       " 349,\n",
       " 397,\n",
       " 418,\n",
       " 463,\n",
       " 496,\n",
       " 511,\n",
       " 577,\n",
       " 597,\n",
       " 604,\n",
       " 628,\n",
       " 647,\n",
       " 735,\n",
       " 742,\n",
       " 749,\n",
       " 789,\n",
       " 857,\n",
       " 879]"
      ]
     },
     "execution_count": 26,
     "metadata": {},
     "output_type": "execute_result"
    }
   ],
   "source": [
    "def find_motif(s1, s2):\n",
    "    start = 0\n",
    "    while True:\n",
    "        start = s1.find(s2, start)\n",
    "        if start == -1: return\n",
    "        yield start+1\n",
    "        start += 1\n",
    "\n",
    "list(find_motif('CACAATTGCACAATTGCTGGTCAGACAATTGCCACAATTGCCAATTGCCAATTGCCAAATTGCAATTGCATTCAATTGCCCAATTGCTCAATTGCGGTACGTGATGCAGCCCAATTGCACACTGCCCTCAATTGCCAATTGCCAATTGCACGTTCAATTGCCAATTGCGACAATTGCCAATTGCTATCAATTGCCAATTGCCAATTGCGCAATTGCTCAATTGCCAATTGCCAATTGCGCAATTGCATGCAATTGCTTACAATTGCCCACAATTGCCAATTGCATTCAATTGCTAGCAATTGCCCAATTGCGTATTATCATCAATTGCCCAATTGCACTCCAATTGCTCAATTGCCAATTGCCTTGCAATTGCCGGCACCAATTGCTACAATTGCCCAATTGCCAATTGCGTTAGTCCAATTGCCAATTGCATGCCGAACCCCAATTGCGCAATTGCTCCATCAATTGCCAATTGCTAGAACCTGACCAATTGCCCAATTGCCAATTGCGCAATTGCCAATTGCCGCAATTGCAGGTGGCGGACAAGCCAATTGCGCAACAATTGCACAATTGCGACAATTGCCAATTGCGCACGACAATTGCCAATTGCCACACCAATTGCAAGGCCAATTGCCAATTGCAGAATCAATTGCCAATTGCATCAATTGCCCCAATTGCCGAATATCACCAATTGCTTTAGCATAGCACAATTGCGCAATTGCGTCTCAATTGCCCAATTGCCAATTGCCAATTGCCAATTGCACCGGGACAATTGCTTCAATTGCGGACAATTGCCAATTGCGCAATTGCCCAATTGCGTCTCAATTGCTCCAATTGCCTTACTTTAACAATTGCACAATTGCCAATTGCCGGACAAGCAATTGCCAATTGCGCAATTGCGCGCAATTGCTTTG','CAATTGCCA'))"
   ]
  },
  {
   "cell_type": "code",
   "execution_count": null,
   "id": "36b7906f",
   "metadata": {},
   "outputs": [],
   "source": []
  },
  {
   "cell_type": "code",
   "execution_count": null,
   "id": "e588e3e2",
   "metadata": {},
   "outputs": [],
   "source": []
  }
 ],
 "metadata": {
  "kernelspec": {
   "display_name": "Python 3 (ipykernel)",
   "language": "python",
   "name": "python3"
  },
  "language_info": {
   "codemirror_mode": {
    "name": "ipython",
    "version": 3
   },
   "file_extension": ".py",
   "mimetype": "text/x-python",
   "name": "python",
   "nbconvert_exporter": "python",
   "pygments_lexer": "ipython3",
   "version": "3.11.5"
  }
 },
 "nbformat": 4,
 "nbformat_minor": 5
}
