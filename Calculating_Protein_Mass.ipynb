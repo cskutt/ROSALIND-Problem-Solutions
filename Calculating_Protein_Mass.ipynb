{
 "cells": [
  {
   "cell_type": "code",
   "execution_count": 10,
   "id": "bfce94bd",
   "metadata": {},
   "outputs": [
    {
     "data": {
      "text/plain": [
       "118447.40398000058"
      ]
     },
     "execution_count": 10,
     "metadata": {},
     "output_type": "execute_result"
    }
   ],
   "source": [
    "def calculation(protein):\n",
    "    x=0\n",
    "    total=0.0\n",
    "    letter=['A','C','D','E','F','G','H','I','K','L','M','N','P','Q','R','S','T','V','W','Y']\n",
    "    weight=['71.03711','103.00919','115.02694','129.04259','147.06841','57.02146','137.05891','113.08406','128.09496','113.08406','131.04049','114.04293','97.05276','128.05858','156.10111','87.03203','101.04768','99.06841','186.07931','163.06333']\n",
    "    for c in protein:\n",
    "        x=letter.index(c)\n",
    "        total+=float(weight[x])\n",
    "    return total\n",
    "        \n",
    "calculation('WINNDHGAWHVSWWLMHDNTPVVNSFCVNSCYMLFKGNNVFRILAFHFYHNDCNTKMQIDIFYDRHMAHWAFIKGYWWQHEMGQDFAFPMRNEFRKSLTYDEITEHCPWVSVTKIRCIGSITIFTWDMAGDGKYFNFTYIYHFFNMEYLARWHYRNIEGCRNTDDTVLANRSAAQCRHLPRCKEDSCYTYLLTMFRCHQFTFKGYFIMSFSIPLNNFTDWPAAPKFASRKKMGVHLKPRWCKCYKPKVYEEKADKTERRYYAEQRPKRLFGPAQDDRPQGNTLRRIWTIGAKVCVLHQMDRDWQYTQHSLCMKIACYFFKAFTCIEVRDASNTWACIVPCLRVMTCRMYIDCPTQKQNIPCQFYRARKCVDYIHGFKFAHAQPIECAEQNINVHRLVAHFAHLYVPMAGVTEWPPCHQLTGKIWKVVFAGCGYLVYHNKWLMWEGVFHNSTRSAPIYEMWHPSPNPPGQGSHSNFGHQRHPTEGNCIPMGKRGRVWSHDQKKKIQSSDKKIMPDGHYCGCPWVVAAEKWEWLMWMCDPQHEVNKQSNHMKWRKTMWCCHVVYFLIINYWKLHYMVLAKVEKNGKLKGHLTNEAIDSTAYETIHNTCHYRSNEAEMIFKGLEMIPEWYQVKDHCPVHTHTNRKDNVEMEHKWSIKARHEPLPRFTTFGVFYSVANALFMEYPHTHYSEYGHPTWSTRQDCRRAEYVRFMLWKCWEHMEAPWSWYNWQGMRLCMVKWMHTTILVSPSLDEWLFWYCQVRHVNHHLMNAEYNGEMTLNNWPRIYIMGTVHMTPRFEVSNYANVNAQSKHVCFPWDGKICANHYYQGHVCIMWNERVKFIKFCKLNSYSETLGDGKWIEFLNKATVYAEVNTFEWDCVDTAQNEKKTLPAEILPAMLCVWEMGMVESDSKQFCAGWELIWLDLERLTEMNYHSCMAPHLTSQGTTRKNNTEHPTWISGYPITTHTAADFEATWVGWFYMCNYKFVSPWEDNLVQLDL')"
   ]
  },
  {
   "cell_type": "code",
   "execution_count": null,
   "id": "716de7ee",
   "metadata": {},
   "outputs": [],
   "source": []
  }
 ],
 "metadata": {
  "kernelspec": {
   "display_name": "Python 3 (ipykernel)",
   "language": "python",
   "name": "python3"
  },
  "language_info": {
   "codemirror_mode": {
    "name": "ipython",
    "version": 3
   },
   "file_extension": ".py",
   "mimetype": "text/x-python",
   "name": "python",
   "nbconvert_exporter": "python",
   "pygments_lexer": "ipython3",
   "version": "3.11.7"
  }
 },
 "nbformat": 4,
 "nbformat_minor": 5
}
