{
 "cells": [
  {
   "cell_type": "code",
   "execution_count": 23,
   "id": "a5df175d",
   "metadata": {},
   "outputs": [
    {
     "name": "stdout",
     "output_type": "stream",
     "text": [
      "0.7188524590163934\n"
     ]
    }
   ],
   "source": [
    "def probability(x,y,z):\n",
    "    #gets the total number of the population\n",
    "    total_pop=x+y+z\n",
    "    \n",
    "    c1=x/total_pop\n",
    "    c2=(y/total_pop)\n",
    "    c3=(z/total_pop)    \n",
    "    \n",
    "    c4=c2*(x/(total_pop-1))\n",
    "    c5=c2*((y-1)/(total_pop-1))\n",
    "    c6=c2*(z/(total_pop-1))    \n",
    "    \n",
    "    c7=c3*(x/(total_pop-1))\n",
    "    c8=c3*(y/(total_pop-1))\n",
    "    c9=c3*((z-1)/(total_pop-1))    \n",
    "    \n",
    "    total_prob = c1+c4+(0.75*c5)+(0.5*c6)+c7+(0.5*c8)\n",
    "    print(total_prob)\n",
    "    \n",
    "    \n",
    "probability(18,21,22)"
   ]
  },
  {
   "cell_type": "code",
   "execution_count": null,
   "id": "c099ef1c",
   "metadata": {},
   "outputs": [],
   "source": []
  }
 ],
 "metadata": {
  "kernelspec": {
   "display_name": "Python 3 (ipykernel)",
   "language": "python",
   "name": "python3"
  },
  "language_info": {
   "codemirror_mode": {
    "name": "ipython",
    "version": 3
   },
   "file_extension": ".py",
   "mimetype": "text/x-python",
   "name": "python",
   "nbconvert_exporter": "python",
   "pygments_lexer": "ipython3",
   "version": "3.11.5"
  }
 },
 "nbformat": 4,
 "nbformat_minor": 5
}
